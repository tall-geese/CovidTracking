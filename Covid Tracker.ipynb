{
 "cells": [
  {
   "cell_type": "code",
   "execution_count": 8,
   "id": "french-blast",
   "metadata": {},
   "outputs": [],
   "source": [
    "import pandas as pd\n",
    "from qbstyles import mpl_style\n",
    "from datetime import datetime as dt"
   ]
  },
  {
   "cell_type": "code",
   "execution_count": 1,
   "id": "absent-fantasy",
   "metadata": {},
   "outputs": [],
   "source": [
    "!mkdir \"csv\""
   ]
  },
  {
   "cell_type": "code",
   "execution_count": 17,
   "id": "integral-anaheim",
   "metadata": {},
   "outputs": [
    {
     "name": "stdout",
     "output_type": "stream",
     "text": [
      "  % Total    % Received % Xferd  Average Speed   Time    Time     Time  Current\n",
      "                                 Dload  Upload   Total   Spent    Left  Speed\n",
      "100  9502  100  9502    0     0   114k      0 --:--:-- --:--:-- --:--:--  114k\n",
      "  % Total    % Received % Xferd  Average Speed   Time    Time     Time  Current\n",
      "                                 Dload  Upload   Total   Spent    Left  Speed\n",
      "100  9502  100  9502    0     0   356k      0 --:--:-- --:--:-- --:--:--  356k\n",
      "  % Total    % Received % Xferd  Average Speed   Time    Time     Time  Current\n",
      "                                 Dload  Upload   Total   Spent    Left  Speed\n",
      "100  9502  100  9502    0     0   343k      0 --:--:-- --:--:-- --:--:--  343k\n"
     ]
    }
   ],
   "source": [
    "a = pd.date_range('01-01-2021', '01-03-2021')\n",
    "# a.to_list()[0]\n",
    "for i in a:\n",
    "    b = i.strftime('%m-%d-%Y')\n",
    "    !curl https://raw.githubusercontent.com/CSSEGISandData/COVID-19/master/csse_covid_19_data/csse_covid_19_daily_reports_us/01-01-2021.csv -o {\"csv/\" + b + \".csv\"}\n",
    "#     print(i.strftime('%m-%d-%Y'))\n",
    "    "
   ]
  },
  {
   "cell_type": "code",
   "execution_count": 2,
   "id": "loaded-budget",
   "metadata": {},
   "outputs": [
    {
     "name": "stdout",
     "output_type": "stream",
     "text": [
      "  % Total    % Received % Xferd  Average Speed   Time    Time     Time  Current\r\n",
      "                                 Dload  Upload   Total   Spent    Left  Speed\r\n",
      "\r",
      "  0     0    0     0    0     0      0      0 --:--:-- --:--:-- --:--:--     0\r",
      "100  9502  100  9502    0     0   226k      0 --:--:-- --:--:-- --:--:--  226k\r\n"
     ]
    }
   ],
   "source": [
    "!curl https://raw.githubusercontent.com/CSSEGISandData/COVID-19/master/csse_covid_19_data/csse_covid_19_daily_reports_us/01-01-2021.csv -o \"csv/01-01-2021.csv\""
   ]
  },
  {
   "cell_type": "code",
   "execution_count": null,
   "id": "rocky-retail",
   "metadata": {},
   "outputs": [],
   "source": []
  }
 ],
 "metadata": {
  "kernelspec": {
   "display_name": "Python 3",
   "language": "python",
   "name": "python3"
  },
  "language_info": {
   "codemirror_mode": {
    "name": "ipython",
    "version": 3
   },
   "file_extension": ".py",
   "mimetype": "text/x-python",
   "name": "python",
   "nbconvert_exporter": "python",
   "pygments_lexer": "ipython3",
   "version": "3.9.6"
  }
 },
 "nbformat": 4,
 "nbformat_minor": 5
}
